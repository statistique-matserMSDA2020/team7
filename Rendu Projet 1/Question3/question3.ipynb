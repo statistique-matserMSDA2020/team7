{
 "cells": [
  {
   "cell_type": "code",
   "execution_count": 5,
   "metadata": {},
   "outputs": [
    {
     "name": "stdout",
     "output_type": "stream",
     "text": [
      "++++++++La structure (lignes,colonnes) est la suivante:  (799, 26)\n"
     ]
    }
   ],
   "source": [
    "import pandas as pd\n",
    "import matplotlib.pyplot as plt\n",
    "import plotly.express as px\n",
    "import seaborn as sns\n",
    "\n",
    "\"\"\"------------------------\n",
    "   1_ Lecture et structure\n",
    "------------------------\"\"\"\n",
    "fichier = pd.read_excel(\"E:\\MASTER1\\Semestre 1\\STATISTIQUE\\Projet 1\\Question3\\data3.xlsx\") # Lecture du fichier excel contenant les données\n",
    "q3 = pd.DataFrame(fichier)\n",
    "print(\"La structure (lignes,colonnes) est la suivante: \", q3.shape) # Vérification de la structure lignes, colonnes\n",
    "# Affectation des variables pour faciliter la mainpulation\n",
    "age = q3[\"age\"]\n",
    "enfants = q3[\"n.enfant\"]\n",
    "fratrie = q3[\"n.fratrie\"]\n",
    "interv = q3[\"dur.interv\"]\n",
    "prof = q3[\"prof\"]"
   ]
  },
  {
   "cell_type": "code",
   "execution_count": 7,
   "metadata": {},
   "outputs": [
    {
     "name": "stdout",
     "output_type": "stream",
     "text": [
      "\n",
      "Nouveaux types de donnée\n",
      "\n",
      " age              float64\n",
      "prof            category\n",
      "duree           category\n",
      "discip          category\n",
      "n.enfant         float64\n",
      "n.fratrie          int64\n",
      "ecole           category\n",
      "separation      category\n",
      "juge.enfant     category\n",
      "place           category\n",
      "abus            category\n",
      "grav.cons       category\n",
      "dep.cons        category\n",
      "ago.cons        category\n",
      "ptsd.cons       category\n",
      "alc.cons        category\n",
      "subst.cons      category\n",
      "scz.cons        category\n",
      "char            category\n",
      "rs              category\n",
      "ed              category\n",
      "dr              category\n",
      "suicide.s        float64\n",
      "suicide.hr      category\n",
      "suicide.past    category\n",
      "dur.interv       float64\n",
      "dtype: object\n"
     ]
    }
   ],
   "source": [
    "\"\"\"-----------------------------------------------\n",
    "   2_ Changement des types de certaines variables\n",
    "-----------------------------------------------\"\"\"\n",
    "\"\"\"print(\"\\nTypes originels\")\n",
    "print(\"\\n\", q3.dtypes)\n",
    "\"\"\"\n",
    "# Reconvertion des données\n",
    "q3[\"prof\"] = q3[\"prof\"].astype(\"category\")\n",
    "q3[\"duree\"] = q3[\"duree\"].astype(\"category\")\n",
    "q3[\"discip\"] = q3[\"discip\"].astype(\"category\")\n",
    "q3[\"ecole\"] = q3[\"ecole\"].astype(\"category\")\n",
    "q3[\"separation\"] = q3[\"separation\"].astype(\"category\")\n",
    "q3[\"juge.enfant\"] = q3[\"juge.enfant\"].astype(\"category\")\n",
    "q3[\"place\"] = q3[\"place\"].astype(\"category\")\n",
    "q3[\"abus\"] = q3[\"abus\"].astype(\"category\")\n",
    "q3[\"grav.cons\"] = q3[\"grav.cons\"].astype(\"category\")\n",
    "q3[\"dep.cons\"] = q3[\"dep.cons\"].astype(\"category\")\n",
    "q3[\"ago.cons\"] = q3[\"ago.cons\"].astype(\"category\")\n",
    "q3[\"ptsd.cons\"] = q3[\"ptsd.cons\"].astype(\"category\")\n",
    "q3[\"alc.cons\"] = q3[\"alc.cons\"].astype(\"category\")\n",
    "q3[\"subst.cons\"] = q3[\"subst.cons\"].astype(\"category\")\n",
    "q3[\"scz.cons\"]= q3[\"scz.cons\"].astype(\"category\")\n",
    "q3[\"char\"] = q3[\"char\"].astype(\"category\")\n",
    "q3[\"rs\"] = q3[\"rs\"].astype(\"category\")\n",
    "q3[\"ed\"] = q3[\"ed\"].astype(\"category\")\n",
    "q3[\"dr\"] = q3[\"dr\"].astype(\"category\")\n",
    "q3[\"suicide.hr\"] = q3[\"suicide.hr\"].astype(\"category\")\n",
    "q3[\"suicide.past\"] = q3[\"suicide.past\"].astype(\"category\")\n",
    "\n",
    "print(\"\\nNouveaux types de donnée\")\n",
    "print(\"\\n\",q3.dtypes)"
   ]
  },
  {
   "cell_type": "code",
   "execution_count": 8,
   "metadata": {},
   "outputs": [
    {
     "name": "stdout",
     "output_type": "stream",
     "text": [
      "\n",
      "------------Agrégats de la variable age------------\n",
      "  Moyenne =  38.89962358845671\n",
      "  Variance =  176.38438428024685\n",
      "  Ecart-type =  13.280978287771081\n",
      "\n",
      "------------Agrégats de la variable n.enfant------------\n",
      "  Moyenne =  1.7554980595084089\n",
      "  Variance =  3.3637164938433877\n",
      "  Ecart-type =  1.8340437546153003\n",
      "\n",
      "------------Agrégats de la variable n.fratrie------------\n",
      "  Moyenne =  4.286608260325407\n",
      "  Variance =  11.84381793030759\n",
      "  Ecart-type =  3.4414848438294174\n",
      "\n",
      "------------Agrégats de la variable n.interv------------\n",
      "  Moyenne =  61.89185580774366\n",
      "  Variance =  386.8933694123357\n",
      "  Ecart-type =  19.669605217500827\n",
      "\n",
      "----Trois premiers quantiles de la variable age----\n",
      "\n",
      " DESCRIPTION\n",
      "count    797.000000\n",
      "mean      38.899624\n",
      "std       13.280978\n",
      "min       19.000000\n",
      "25%       28.000000\n",
      "50%       37.000000\n",
      "75%       48.000000\n",
      "max       83.000000\n",
      "Name: age, dtype: float64\n",
      "\n",
      "En voyant la description ci-dessus nous pouvons déduire que les premier, deuxième et troisième quantiles de la variable age sont respectivement: 28, 37 et 48\n"
     ]
    }
   ],
   "source": [
    "\"\"\"-----------------------------------------------------------------------------\n",
    "   3_ Moyenne, Variance, Ecart-type et 3 premiers quantiles de la variables age\n",
    "-----------------------------------------------------------------------------\"\"\"\n",
    "# Variable age\n",
    "print(\"\\n------------Agrégats de la variable age------------\")\n",
    "print(\"  Moyenne = \", age.mean())\n",
    "print(\"  Variance = \", age.var())\n",
    "print(\"  Ecart-type = \", age.std())\n",
    "# Variable n.enfant\n",
    "print(\"\\n------------Agrégats de la variable n.enfant------------\")\n",
    "print(\"  Moyenne = \", enfants.mean())\n",
    "print(\"  Variance = \", enfants.var())\n",
    "print(\"  Ecart-type = \", enfants.std())\n",
    "# Variable n.fratrie\n",
    "print(\"\\n------------Agrégats de la variable n.fratrie------------\")\n",
    "print(\"  Moyenne = \", fratrie.mean())\n",
    "print(\"  Variance = \", fratrie.var())\n",
    "print(\"  Ecart-type = \", fratrie.std())\n",
    "# Variable n.interv\n",
    "print(\"\\n------------Agrégats de la variable n.interv------------\")\n",
    "print(\"  Moyenne = \", interv.mean())\n",
    "print(\"  Variance = \", interv.var())\n",
    "print(\"  Ecart-type = \", interv.std())\n",
    "\n",
    "# Trois premiers quantiles de la variable age\n",
    "print(\"\\n----Trois premiers quantiles de la variable age----\")\n",
    "print(\"\\n DESCRIPTION\") \n",
    "print(age.describe())\n",
    "print(\"\\nEn voyant la description ci-dessus nous pouvons déduire que les premier, deuxième et troisième quantiles de la variable age sont respectivement: 28, 37 et 48\")\n",
    "\n"
   ]
  },
  {
   "cell_type": "code",
   "execution_count": 9,
   "metadata": {},
   "outputs": [
    {
     "data": {
      "image/png": "[encoded data removed]",
      "text/plain": [
       "<Figure size 720x360 with 1 Axes>"
      ]
     },
     "metadata": {
      "needs_background": "light"
     },
     "output_type": "display_data"
    },
    {
     "name": "stdout",
     "output_type": "stream",
     "text": [
      "\n",
      "D'après le boxplot ci-dessus nous pouvons conclure :\n",
      "- Les prisonniers de cette étude ont entre 19 et 83 ans\n",
      "- 25% des prisonniers sont âgés entre 19-28ans\n",
      "- 25% des prisonniers sont âgés entre 28-37ans\n",
      "- 25% des prisonniers sont âgés entre 37-48ans\n",
      "- 25% des prisonniers sont au moins âgés de 48ans\n",
      "- Les données sont beaucoup plus dispersées dans le dernier quart(au moins âgés de 48ans) que dans les autres\n"
     ]
    }
   ],
   "source": [
    "\"\"\"----------------------------------------------\n",
    "    4_ Boxplot de la variable age et conclusions\n",
    "----------------------------------------------\"\"\"\n",
    "# Boxplot\n",
    "age.plot.box(vert = False, grid = True, figsize = (10,5))\n",
    "plt.title(\"Boxplot de la variable age\", c= \"blue\")\n",
    "plt.show()\n",
    "# Conclusions\n",
    "print(\"\\nD'après le boxplot ci-dessus nous pouvons conclure :\")\n",
    "print(\"- Les prisonniers de cette étude ont entre 19 et 83 ans\")\n",
    "print(\"- 25% des prisonniers sont âgés entre 19-28ans\")\n",
    "print(\"- 25% des prisonniers sont âgés entre 28-37ans\")\n",
    "print(\"- 25% des prisonniers sont âgés entre 37-48ans\")\n",
    "print(\"- 25% des prisonniers sont au moins âgés de 48ans\")\n",
    "print(\"- Les données sont beaucoup plus dispersées dans le dernier quart(au moins âgés de 48ans) que dans les autres\")\n"
   ]
  },
  {
   "cell_type": "code",
   "execution_count": 6,
   "metadata": {},
   "outputs": [
    {
     "name": "stdout",
     "output_type": "stream",
     "text": [
      "\n",
      "-----Le tableau ci-dessous présente les informations des agriculteurs qui ont plus de 2 enfants-----\n",
      "      age         prof duree discip  n.enfant  n.fratrie ecole separation  \\\n",
      "14   64.0  agriculteur   NaN    0.0       3.0          2   1.0        0.0   \n",
      "311  42.0  agriculteur   4.0    0.0       3.0          6   1.0        0.0   \n",
      "390  36.0  agriculteur   4.0    1.0       3.0          4   3.0        1.0   \n",
      "441  79.0  agriculteur   5.0    0.0       5.0          6   2.0        0.0   \n",
      "\n",
      "    juge.enfant place  ... subst.cons scz.cons char   rs   ed   dr suicide.s  \\\n",
      "14          0.0   0.0  ...          0        0  1.0  1.0  1.0  3.0       0.0   \n",
      "311         0.0   0.0  ...          0        0  2.0  1.0  3.0  2.0       3.0   \n",
      "390         1.0   1.0  ...          1        0  1.0  NaN  3.0  1.0       0.0   \n",
      "441         0.0   0.0  ...          0        0  1.0  2.0  1.0  1.0       0.0   \n",
      "\n",
      "    suicide.hr suicide.past dur.interv  \n",
      "14         0.0          0.0       80.0  \n",
      "311        1.0          0.0        NaN  \n",
      "390        0.0          0.0        NaN  \n",
      "441        0.0          0.0       85.0  \n",
      "\n",
      "[4 rows x 26 columns]\n"
     ]
    }
   ],
   "source": [
    "\n",
    "\"\"\"------------------------------------------------------------------------\n",
    "    5_ Aﬃchage des données pour les agriculteurs qui ont plus de 2 enfants\n",
    "------------------------------------------------------------------------\"\"\"\n",
    "print(\"\\n-----Le tableau ci-dessous présente les informations des agriculteurs qui ont plus de 2 enfants-----\")\n",
    "d5 = q3[(enfants > 2 ) & (prof == \"agriculteur\")]\n",
    "print(d5)\n"
   ]
  },
  {
   "cell_type": "code",
   "execution_count": 45,
   "metadata": {},
   "outputs": [
    {
     "name": "stdout",
     "output_type": "stream",
     "text": [
      "\n",
      "-------Fréquences des modalités de la variables prof-------\n",
      "ouvrier               28.625473\n",
      "sans emploi           27.994956\n",
      "employe               17.023960\n",
      "artisan               11.349306\n",
      "prof.intermediaire     7.313997\n",
      "autre                  3.909206\n",
      "cadre                  3.026482\n",
      "agriculteur            0.756620\n",
      "Name: prof, dtype: float64\n",
      "Le tableau ci-dessous montre que la catégorie modale de cette variable est 'ouvrier' avec 28.62% des prisonniers \n",
      "Cela peut être réconforter par le diagramme ci-dessous\n"
     ]
    },
    {
     "data": {
      "application/vnd.plotly.v1+json": {
       "config": {
        "plotlyServerURL": "https://plot.ly"
       },
       "data": [
        {
         "alignmentgroup": "True",
         "hoverlabel": {
          "namelength": 0
         },
         "hovertemplate": "Fonctions=%{x}<br>Nombres=%{y}",
         "legendgroup": "",
         "marker": {
          "color": "#7BFF00"
         },
         "name": "",
         "offsetgroup": "",
         "orientation": "v",
         "showlegend": false,
         "textposition": "auto",
         "type": "bar",
         "x": [
          "Ouvrier",
          "Sans emploi",
          "Employé",
          "Artisan",
          "Prof.intermediaire",
          "Autre",
          "Cadre",
          "Agriculteur"
         ],
         "xaxis": "x",
         "y": [
          227,
          222,
          135,
          90,
          58,
          31,
          24,
          6
         ],
         "yaxis": "y"
        }
       ],
       "layout": {
        "barmode": "relative",
        "legend": {
         "tracegroupgap": 0
        },
        "margin": {
         "t": 60
        },
        "template": {
         "data": {
          "bar": [
           {
            "error_x": {
             "color": "#2a3f5f"
            },
            "error_y": {
             "color": "#2a3f5f"
            },
            "marker": {
             "line": {
              "color": "#E5ECF6",
              "width": 0.5
             }
            },
            "type": "bar"
           }
          ],
          "barpolar": [
           {
            "marker": {
             "line": {
              "color": "#E5ECF6",
              "width": 0.5
             }
            },
            "type": "barpolar"
           }
          ],
          "carpet": [
           {
            "aaxis": {
             "endlinecolor": "#2a3f5f",
             "gridcolor": "white",
             "linecolor": "white",
             "minorgridcolor": "white",
             "startlinecolor": "#2a3f5f"
            },
            "baxis": {
             "endlinecolor": "#2a3f5f",
             "gridcolor": "white",
             "linecolor": "white",
             "minorgridcolor": "white",
             "startlinecolor": "#2a3f5f"
            },
            "type": "carpet"
           }
          ],
          "choropleth": [
           {
            "colorbar": {
             "outlinewidth": 0,
             "ticks": ""
            },
            "type": "choropleth"
           }
          ],
          "contour": [
           {
            "colorbar": {
             "outlinewidth": 0,
             "ticks": ""
            },
            "colorscale": [
             [
              0,
              "#0d0887"
             ],
             [
              0.1111111111111111,
              "#46039f"
             ],
             [
              0.2222222222222222,
              "#7201a8"
             ],
             [
              0.3333333333333333,
              "#9c179e"
             ],
             [
              0.4444444444444444,
              "#bd3786"
             ],
             [
              0.5555555555555556,
              "#d8576b"
             ],
             [
              0.6666666666666666,
              "#ed7953"
             ],
             [
              0.7777777777777778,
              "#fb9f3a"
             ],
             [
              0.8888888888888888,
              "#fdca26"
             ],
             [
              1,
              "#f0f921"
             ]
            ],
            "type": "contour"
           }
          ],
          "contourcarpet": [
           {
            "colorbar": {
             "outlinewidth": 0,
             "ticks": ""
            },
            "type": "contourcarpet"
           }
          ],
          "heatmap": [
           {
            "colorbar": {
             "outlinewidth": 0,
             "ticks": ""
            },
            "colorscale": [
             [
              0,
              "#0d0887"
             ],
             [
              0.1111111111111111,
              "#46039f"
             ],
             [
              0.2222222222222222,
              "#7201a8"
             ],
             [
              0.3333333333333333,
              "#9c179e"
             ],
             [
              0.4444444444444444,
              "#bd3786"
             ],
             [
              0.5555555555555556,
              "#d8576b"
             ],
             [
              0.6666666666666666,
              "#ed7953"
             ],
             [
              0.7777777777777778,
              "#fb9f3a"
             ],
             [
              0.8888888888888888,
              "#fdca26"
             ],
             [
              1,
              "#f0f921"
             ]
            ],
            "type": "heatmap"
           }
          ],
          "heatmapgl": [
           {
            "colorbar": {
             "outlinewidth": 0,
             "ticks": ""
            },
            "colorscale": [
             [
              0,
              "#0d0887"
             ],
             [
              0.1111111111111111,
              "#46039f"
             ],
             [
              0.2222222222222222,
              "#7201a8"
             ],
             [
              0.3333333333333333,
              "#9c179e"
             ],
             [
              0.4444444444444444,
              "#bd3786"
             ],
             [
              0.5555555555555556,
              "#d8576b"
             ],
             [
              0.6666666666666666,
              "#ed7953"
             ],
             [
              0.7777777777777778,
              "#fb9f3a"
             ],
             [
              0.8888888888888888,
              "#fdca26"
             ],
             [
              1,
              "#f0f921"
             ]
            ],
            "type": "heatmapgl"
           }
          ],
          "histogram": [
           {
            "marker": {
             "colorbar": {
              "outlinewidth": 0,
              "ticks": ""
             }
            },
            "type": "histogram"
           }
          ],
          "histogram2d": [
           {
            "colorbar": {
             "outlinewidth": 0,
             "ticks": ""
            },
            "colorscale": [
             [
              0,
              "#0d0887"
             ],
             [
              0.1111111111111111,
              "#46039f"
             ],
             [
              0.2222222222222222,
              "#7201a8"
             ],
             [
              0.3333333333333333,
              "#9c179e"
             ],
             [
              0.4444444444444444,
              "#bd3786"
             ],
             [
              0.5555555555555556,
              "#d8576b"
             ],
             [
              0.6666666666666666,
              "#ed7953"
             ],
             [
              0.7777777777777778,
              "#fb9f3a"
             ],
             [
              0.8888888888888888,
              "#fdca26"
             ],
             [
              1,
              "#f0f921"
             ]
            ],
            "type": "histogram2d"
           }
          ],
          "histogram2dcontour": [
           {
            "colorbar": {
             "outlinewidth": 0,
             "ticks": ""
            },
            "colorscale": [
             [
              0,
              "#0d0887"
             ],
             [
              0.1111111111111111,
              "#46039f"
             ],
             [
              0.2222222222222222,
              "#7201a8"
             ],
             [
              0.3333333333333333,
              "#9c179e"
             ],
             [
              0.4444444444444444,
              "#bd3786"
             ],
             [
              0.5555555555555556,
              "#d8576b"
             ],
             [
              0.6666666666666666,
              "#ed7953"
             ],
             [
              0.7777777777777778,
              "#fb9f3a"
             ],
             [
              0.8888888888888888,
              "#fdca26"
             ],
             [
              1,
              "#f0f921"
             ]
            ],
            "type": "histogram2dcontour"
           }
          ],
          "mesh3d": [
           {
            "colorbar": {
             "outlinewidth": 0,
             "ticks": ""
            },
            "type": "mesh3d"
           }
          ],
          "parcoords": [
           {
            "line": {
             "colorbar": {
              "outlinewidth": 0,
              "ticks": ""
             }
            },
            "type": "parcoords"
           }
          ],
          "pie": [
           {
            "automargin": true,
            "type": "pie"
           }
          ],
          "scatter": [
           {
            "marker": {
             "colorbar": {
              "outlinewidth": 0,
              "ticks": ""
             }
            },
            "type": "scatter"
           }
          ],
          "scatter3d": [
           {
            "line": {
             "colorbar": {
              "outlinewidth": 0,
              "ticks": ""
             }
            },
            "marker": {
             "colorbar": {
              "outlinewidth": 0,
              "ticks": ""
             }
            },
            "type": "scatter3d"
           }
          ],
          "scattercarpet": [
           {
            "marker": {
             "colorbar": {
              "outlinewidth": 0,
              "ticks": ""
             }
            },
            "type": "scattercarpet"
           }
          ],
          "scattergeo": [
           {
            "marker": {
             "colorbar": {
              "outlinewidth": 0,
              "ticks": ""
             }
            },
            "type": "scattergeo"
           }
          ],
          "scattergl": [
           {
            "marker": {
             "colorbar": {
              "outlinewidth": 0,
              "ticks": ""
             }
            },
            "type": "scattergl"
           }
          ],
          "scattermapbox": [
           {
            "marker": {
             "colorbar": {
              "outlinewidth": 0,
              "ticks": ""
             }
            },
            "type": "scattermapbox"
           }
          ],
          "scatterpolar": [
           {
            "marker": {
             "colorbar": {
              "outlinewidth": 0,
              "ticks": ""
             }
            },
            "type": "scatterpolar"
           }
          ],
          "scatterpolargl": [
           {
            "marker": {
             "colorbar": {
              "outlinewidth": 0,
              "ticks": ""
             }
            },
            "type": "scatterpolargl"
           }
          ],
          "scatterternary": [
           {
            "marker": {
             "colorbar": {
              "outlinewidth": 0,
              "ticks": ""
             }
            },
            "type": "scatterternary"
           }
          ],
          "surface": [
           {
            "colorbar": {
             "outlinewidth": 0,
             "ticks": ""
            },
            "colorscale": [
             [
              0,
              "#0d0887"
             ],
             [
              0.1111111111111111,
              "#46039f"
             ],
             [
              0.2222222222222222,
              "#7201a8"
             ],
             [
              0.3333333333333333,
              "#9c179e"
             ],
             [
              0.4444444444444444,
              "#bd3786"
             ],
             [
              0.5555555555555556,
              "#d8576b"
             ],
             [
              0.6666666666666666,
              "#ed7953"
             ],
             [
              0.7777777777777778,
              "#fb9f3a"
             ],
             [
              0.8888888888888888,
              "#fdca26"
             ],
             [
              1,
              "#f0f921"
             ]
            ],
            "type": "surface"
           }
          ],
          "table": [
           {
            "cells": {
             "fill": {
              "color": "#EBF0F8"
             },
             "line": {
              "color": "white"
             }
            },
            "header": {
             "fill": {
              "color": "#C8D4E3"
             },
             "line": {
              "color": "white"
             }
            },
            "type": "table"
           }
          ]
         },
         "layout": {
          "annotationdefaults": {
           "arrowcolor": "#2a3f5f",
           "arrowhead": 0,
           "arrowwidth": 1
          },
          "coloraxis": {
           "colorbar": {
            "outlinewidth": 0,
            "ticks": ""
           }
          },
          "colorscale": {
           "diverging": [
            [
             0,
             "#8e0152"
            ],
            [
             0.1,
             "#c51b7d"
            ],
            [
             0.2,
             "#de77ae"
            ],
            [
             0.3,
             "#f1b6da"
            ],
            [
             0.4,
             "#fde0ef"
            ],
            [
             0.5,
             "#f7f7f7"
            ],
            [
             0.6,
             "#e6f5d0"
            ],
            [
             0.7,
             "#b8e186"
            ],
            [
             0.8,
             "#7fbc41"
            ],
            [
             0.9,
             "#4d9221"
            ],
            [
             1,
             "#276419"
            ]
           ],
           "sequential": [
            [
             0,
             "#0d0887"
            ],
            [
             0.1111111111111111,
             "#46039f"
            ],
            [
             0.2222222222222222,
             "#7201a8"
            ],
            [
             0.3333333333333333,
             "#9c179e"
            ],
            [
             0.4444444444444444,
             "#bd3786"
            ],
            [
             0.5555555555555556,
             "#d8576b"
            ],
            [
             0.6666666666666666,
             "#ed7953"
            ],
            [
             0.7777777777777778,
             "#fb9f3a"
            ],
            [
             0.8888888888888888,
             "#fdca26"
            ],
            [
             1,
             "#f0f921"
            ]
           ],
           "sequentialminus": [
            [
             0,
             "#0d0887"
            ],
            [
             0.1111111111111111,
             "#46039f"
            ],
            [
             0.2222222222222222,
             "#7201a8"
            ],
            [
             0.3333333333333333,
             "#9c179e"
            ],
            [
             0.4444444444444444,
             "#bd3786"
            ],
            [
             0.5555555555555556,
             "#d8576b"
            ],
            [
             0.6666666666666666,
             "#ed7953"
            ],
            [
             0.7777777777777778,
             "#fb9f3a"
            ],
            [
             0.8888888888888888,
             "#fdca26"
            ],
            [
             1,
             "#f0f921"
            ]
           ]
          },
          "colorway": [
           "#636efa",
           "#EF553B",
           "#00cc96",
           "#ab63fa",
           "#FFA15A",
           "#19d3f3",
           "#FF6692",
           "#B6E880",
           "#FF97FF",
           "#FECB52"
          ],
          "font": {
           "color": "#2a3f5f"
          },
          "geo": {
           "bgcolor": "white",
           "lakecolor": "white",
           "landcolor": "#E5ECF6",
           "showlakes": true,
           "showland": true,
           "subunitcolor": "white"
          },
          "hoverlabel": {
           "align": "left"
          },
          "hovermode": "closest",
          "mapbox": {
           "style": "light"
          },
          "paper_bgcolor": "white",
          "plot_bgcolor": "#E5ECF6",
          "polar": {
           "angularaxis": {
            "gridcolor": "white",
            "linecolor": "white",
            "ticks": ""
           },
           "bgcolor": "#E5ECF6",
           "radialaxis": {
            "gridcolor": "white",
            "linecolor": "white",
            "ticks": ""
           }
          },
          "scene": {
           "xaxis": {
            "backgroundcolor": "#E5ECF6",
            "gridcolor": "white",
            "gridwidth": 2,
            "linecolor": "white",
            "showbackground": true,
            "ticks": "",
            "zerolinecolor": "white"
           },
           "yaxis": {
            "backgroundcolor": "#E5ECF6",
            "gridcolor": "white",
            "gridwidth": 2,
            "linecolor": "white",
            "showbackground": true,
            "ticks": "",
            "zerolinecolor": "white"
           },
           "zaxis": {
            "backgroundcolor": "#E5ECF6",
            "gridcolor": "white",
            "gridwidth": 2,
            "linecolor": "white",
            "showbackground": true,
            "ticks": "",
            "zerolinecolor": "white"
           }
          },
          "shapedefaults": {
           "line": {
            "color": "#2a3f5f"
           }
          },
          "ternary": {
           "aaxis": {
            "gridcolor": "white",
            "linecolor": "white",
            "ticks": ""
           },
           "baxis": {
            "gridcolor": "white",
            "linecolor": "white",
            "ticks": ""
           },
           "bgcolor": "#E5ECF6",
           "caxis": {
            "gridcolor": "white",
            "linecolor": "white",
            "ticks": ""
           }
          },
          "title": {
           "x": 0.05
          },
          "xaxis": {
           "automargin": true,
           "gridcolor": "white",
           "linecolor": "white",
           "ticks": "",
           "title": {
            "standoff": 15
           },
           "zerolinecolor": "white",
           "zerolinewidth": 2
          },
          "yaxis": {
           "automargin": true,
           "gridcolor": "white",
           "linecolor": "white",
           "ticks": "",
           "title": {
            "standoff": 15
           },
           "zerolinecolor": "white",
           "zerolinewidth": 2
          }
         }
        },
        "xaxis": {
         "anchor": "y",
         "domain": [
          0,
          1
         ],
         "title": {
          "text": "Fonctions"
         }
        },
        "yaxis": {
         "anchor": "x",
         "domain": [
          0,
          1
         ],
         "title": {
          "text": "Nombres"
         }
        }
       }
      },
      "text/html": [
       "<div>\n",
       "        \n",
       "        \n",
       "            <div id=\"498eedc9-bb09-4b4d-b812-c6d6c9a4c6c6\" class=\"plotly-graph-div\" style=\"height:525px; width:100%;\"></div>\n",
       "            <script type=\"text/javascript\">\n",
       "                require([\"plotly\"], function(Plotly) {\n",
       "                    window.PLOTLYENV=window.PLOTLYENV || {};\n",
       "                    \n",
       "                if (document.getElementById(\"498eedc9-bb09-4b4d-b812-c6d6c9a4c6c6\")) {\n",
       "                    Plotly.newPlot(\n",
       "                        '498eedc9-bb09-4b4d-b812-c6d6c9a4c6c6',\n",
       "                        [{\"alignmentgroup\": \"True\", \"hoverlabel\": {\"namelength\": 0}, \"hovertemplate\": \"Fonctions=%{x}<br>Nombres=%{y}\", \"legendgroup\": \"\", \"marker\": {\"color\": \"#7BFF00\"}, \"name\": \"\", \"offsetgroup\": \"\", \"orientation\": \"v\", \"showlegend\": false, \"textposition\": \"auto\", \"type\": \"bar\", \"x\": [\"Ouvrier\", \"Sans emploi\", \"Employ\\u00e9\", \"Artisan\", \"Prof.intermediaire\", \"Autre\", \"Cadre\", \"Agriculteur\"], \"xaxis\": \"x\", \"y\": [227, 222, 135, 90, 58, 31, 24, 6], \"yaxis\": \"y\"}],\n",
       "                        {\"barmode\": \"relative\", \"legend\": {\"tracegroupgap\": 0}, \"margin\": {\"t\": 60}, \"template\": {\"data\": {\"bar\": [{\"error_x\": {\"color\": \"#2a3f5f\"}, \"error_y\": {\"color\": \"#2a3f5f\"}, \"marker\": {\"line\": {\"color\": \"#E5ECF6\", \"width\": 0.5}}, \"type\": \"bar\"}], \"barpolar\": [{\"marker\": {\"line\": {\"color\": \"#E5ECF6\", \"width\": 0.5}}, \"type\": \"barpolar\"}], \"carpet\": [{\"aaxis\": {\"endlinecolor\": \"#2a3f5f\", \"gridcolor\": \"white\", \"linecolor\": \"white\", \"minorgridcolor\": \"white\", \"startlinecolor\": \"#2a3f5f\"}, \"baxis\": {\"endlinecolor\": \"#2a3f5f\", \"gridcolor\": \"white\", \"linecolor\": \"white\", \"minorgridcolor\": \"white\", \"startlinecolor\": \"#2a3f5f\"}, \"type\": \"carpet\"}], \"choropleth\": [{\"colorbar\": {\"outlinewidth\": 0, \"ticks\": \"\"}, \"type\": \"choropleth\"}], \"contour\": [{\"colorbar\": {\"outlinewidth\": 0, \"ticks\": \"\"}, \"colorscale\": [[0.0, \"#0d0887\"], [0.1111111111111111, \"#46039f\"], [0.2222222222222222, \"#7201a8\"], [0.3333333333333333, \"#9c179e\"], [0.4444444444444444, \"#bd3786\"], [0.5555555555555556, \"#d8576b\"], [0.6666666666666666, \"#ed7953\"], [0.7777777777777778, \"#fb9f3a\"], [0.8888888888888888, \"#fdca26\"], [1.0, \"#f0f921\"]], \"type\": \"contour\"}], \"contourcarpet\": [{\"colorbar\": {\"outlinewidth\": 0, \"ticks\": \"\"}, \"type\": \"contourcarpet\"}], \"heatmap\": [{\"colorbar\": {\"outlinewidth\": 0, \"ticks\": \"\"}, \"colorscale\": [[0.0, \"#0d0887\"], [0.1111111111111111, \"#46039f\"], [0.2222222222222222, \"#7201a8\"], [0.3333333333333333, \"#9c179e\"], [0.4444444444444444, \"#bd3786\"], [0.5555555555555556, \"#d8576b\"], [0.6666666666666666, \"#ed7953\"], [0.7777777777777778, \"#fb9f3a\"], [0.8888888888888888, \"#fdca26\"], [1.0, \"#f0f921\"]], \"type\": \"heatmap\"}], \"heatmapgl\": [{\"colorbar\": {\"outlinewidth\": 0, \"ticks\": \"\"}, \"colorscale\": [[0.0, \"#0d0887\"], [0.1111111111111111, \"#46039f\"], [0.2222222222222222, \"#7201a8\"], [0.3333333333333333, \"#9c179e\"], [0.4444444444444444, \"#bd3786\"], [0.5555555555555556, \"#d8576b\"], [0.6666666666666666, \"#ed7953\"], [0.7777777777777778, \"#fb9f3a\"], [0.8888888888888888, \"#fdca26\"], [1.0, \"#f0f921\"]], \"type\": \"heatmapgl\"}], \"histogram\": [{\"marker\": {\"colorbar\": {\"outlinewidth\": 0, \"ticks\": \"\"}}, \"type\": \"histogram\"}], \"histogram2d\": [{\"colorbar\": {\"outlinewidth\": 0, \"ticks\": \"\"}, \"colorscale\": [[0.0, \"#0d0887\"], [0.1111111111111111, \"#46039f\"], [0.2222222222222222, \"#7201a8\"], [0.3333333333333333, \"#9c179e\"], [0.4444444444444444, \"#bd3786\"], [0.5555555555555556, \"#d8576b\"], [0.6666666666666666, \"#ed7953\"], [0.7777777777777778, \"#fb9f3a\"], [0.8888888888888888, \"#fdca26\"], [1.0, \"#f0f921\"]], \"type\": \"histogram2d\"}], \"histogram2dcontour\": [{\"colorbar\": {\"outlinewidth\": 0, \"ticks\": \"\"}, \"colorscale\": [[0.0, \"#0d0887\"], [0.1111111111111111, \"#46039f\"], [0.2222222222222222, \"#7201a8\"], [0.3333333333333333, \"#9c179e\"], [0.4444444444444444, \"#bd3786\"], [0.5555555555555556, \"#d8576b\"], [0.6666666666666666, \"#ed7953\"], [0.7777777777777778, \"#fb9f3a\"], [0.8888888888888888, \"#fdca26\"], [1.0, \"#f0f921\"]], \"type\": \"histogram2dcontour\"}], \"mesh3d\": [{\"colorbar\": {\"outlinewidth\": 0, \"ticks\": \"\"}, \"type\": \"mesh3d\"}], \"parcoords\": [{\"line\": {\"colorbar\": {\"outlinewidth\": 0, \"ticks\": \"\"}}, \"type\": \"parcoords\"}], \"pie\": [{\"automargin\": true, \"type\": \"pie\"}], \"scatter\": [{\"marker\": {\"colorbar\": {\"outlinewidth\": 0, \"ticks\": \"\"}}, \"type\": \"scatter\"}], \"scatter3d\": [{\"line\": {\"colorbar\": {\"outlinewidth\": 0, \"ticks\": \"\"}}, \"marker\": {\"colorbar\": {\"outlinewidth\": 0, \"ticks\": \"\"}}, \"type\": \"scatter3d\"}], \"scattercarpet\": [{\"marker\": {\"colorbar\": {\"outlinewidth\": 0, \"ticks\": \"\"}}, \"type\": \"scattercarpet\"}], \"scattergeo\": [{\"marker\": {\"colorbar\": {\"outlinewidth\": 0, \"ticks\": \"\"}}, \"type\": \"scattergeo\"}], \"scattergl\": [{\"marker\": {\"colorbar\": {\"outlinewidth\": 0, \"ticks\": \"\"}}, \"type\": \"scattergl\"}], \"scattermapbox\": [{\"marker\": {\"colorbar\": {\"outlinewidth\": 0, \"ticks\": \"\"}}, \"type\": \"scattermapbox\"}], \"scatterpolar\": [{\"marker\": {\"colorbar\": {\"outlinewidth\": 0, \"ticks\": \"\"}}, \"type\": \"scatterpolar\"}], \"scatterpolargl\": [{\"marker\": {\"colorbar\": {\"outlinewidth\": 0, \"ticks\": \"\"}}, \"type\": \"scatterpolargl\"}], \"scatterternary\": [{\"marker\": {\"colorbar\": {\"outlinewidth\": 0, \"ticks\": \"\"}}, \"type\": \"scatterternary\"}], \"surface\": [{\"colorbar\": {\"outlinewidth\": 0, \"ticks\": \"\"}, \"colorscale\": [[0.0, \"#0d0887\"], [0.1111111111111111, \"#46039f\"], [0.2222222222222222, \"#7201a8\"], [0.3333333333333333, \"#9c179e\"], [0.4444444444444444, \"#bd3786\"], [0.5555555555555556, \"#d8576b\"], [0.6666666666666666, \"#ed7953\"], [0.7777777777777778, \"#fb9f3a\"], [0.8888888888888888, \"#fdca26\"], [1.0, \"#f0f921\"]], \"type\": \"surface\"}], \"table\": [{\"cells\": {\"fill\": {\"color\": \"#EBF0F8\"}, \"line\": {\"color\": \"white\"}}, \"header\": {\"fill\": {\"color\": \"#C8D4E3\"}, \"line\": {\"color\": \"white\"}}, \"type\": \"table\"}]}, \"layout\": {\"annotationdefaults\": {\"arrowcolor\": \"#2a3f5f\", \"arrowhead\": 0, \"arrowwidth\": 1}, \"coloraxis\": {\"colorbar\": {\"outlinewidth\": 0, \"ticks\": \"\"}}, \"colorscale\": {\"diverging\": [[0, \"#8e0152\"], [0.1, \"#c51b7d\"], [0.2, \"#de77ae\"], [0.3, \"#f1b6da\"], [0.4, \"#fde0ef\"], [0.5, \"#f7f7f7\"], [0.6, \"#e6f5d0\"], [0.7, \"#b8e186\"], [0.8, \"#7fbc41\"], [0.9, \"#4d9221\"], [1, \"#276419\"]], \"sequential\": [[0.0, \"#0d0887\"], [0.1111111111111111, \"#46039f\"], [0.2222222222222222, \"#7201a8\"], [0.3333333333333333, \"#9c179e\"], [0.4444444444444444, \"#bd3786\"], [0.5555555555555556, \"#d8576b\"], [0.6666666666666666, \"#ed7953\"], [0.7777777777777778, \"#fb9f3a\"], [0.8888888888888888, \"#fdca26\"], [1.0, \"#f0f921\"]], \"sequentialminus\": [[0.0, \"#0d0887\"], [0.1111111111111111, \"#46039f\"], [0.2222222222222222, \"#7201a8\"], [0.3333333333333333, \"#9c179e\"], [0.4444444444444444, \"#bd3786\"], [0.5555555555555556, \"#d8576b\"], [0.6666666666666666, \"#ed7953\"], [0.7777777777777778, \"#fb9f3a\"], [0.8888888888888888, \"#fdca26\"], [1.0, \"#f0f921\"]]}, \"colorway\": [\"#636efa\", \"#EF553B\", \"#00cc96\", \"#ab63fa\", \"#FFA15A\", \"#19d3f3\", \"#FF6692\", \"#B6E880\", \"#FF97FF\", \"#FECB52\"], \"font\": {\"color\": \"#2a3f5f\"}, \"geo\": {\"bgcolor\": \"white\", \"lakecolor\": \"white\", \"landcolor\": \"#E5ECF6\", \"showlakes\": true, \"showland\": true, \"subunitcolor\": \"white\"}, \"hoverlabel\": {\"align\": \"left\"}, \"hovermode\": \"closest\", \"mapbox\": {\"style\": \"light\"}, \"paper_bgcolor\": \"white\", \"plot_bgcolor\": \"#E5ECF6\", \"polar\": {\"angularaxis\": {\"gridcolor\": \"white\", \"linecolor\": \"white\", \"ticks\": \"\"}, \"bgcolor\": \"#E5ECF6\", \"radialaxis\": {\"gridcolor\": \"white\", \"linecolor\": \"white\", \"ticks\": \"\"}}, \"scene\": {\"xaxis\": {\"backgroundcolor\": \"#E5ECF6\", \"gridcolor\": \"white\", \"gridwidth\": 2, \"linecolor\": \"white\", \"showbackground\": true, \"ticks\": \"\", \"zerolinecolor\": \"white\"}, \"yaxis\": {\"backgroundcolor\": \"#E5ECF6\", \"gridcolor\": \"white\", \"gridwidth\": 2, \"linecolor\": \"white\", \"showbackground\": true, \"ticks\": \"\", \"zerolinecolor\": \"white\"}, \"zaxis\": {\"backgroundcolor\": \"#E5ECF6\", \"gridcolor\": \"white\", \"gridwidth\": 2, \"linecolor\": \"white\", \"showbackground\": true, \"ticks\": \"\", \"zerolinecolor\": \"white\"}}, \"shapedefaults\": {\"line\": {\"color\": \"#2a3f5f\"}}, \"ternary\": {\"aaxis\": {\"gridcolor\": \"white\", \"linecolor\": \"white\", \"ticks\": \"\"}, \"baxis\": {\"gridcolor\": \"white\", \"linecolor\": \"white\", \"ticks\": \"\"}, \"bgcolor\": \"#E5ECF6\", \"caxis\": {\"gridcolor\": \"white\", \"linecolor\": \"white\", \"ticks\": \"\"}}, \"title\": {\"x\": 0.05}, \"xaxis\": {\"automargin\": true, \"gridcolor\": \"white\", \"linecolor\": \"white\", \"ticks\": \"\", \"title\": {\"standoff\": 15}, \"zerolinecolor\": \"white\", \"zerolinewidth\": 2}, \"yaxis\": {\"automargin\": true, \"gridcolor\": \"white\", \"linecolor\": \"white\", \"ticks\": \"\", \"title\": {\"standoff\": 15}, \"zerolinecolor\": \"white\", \"zerolinewidth\": 2}}}, \"xaxis\": {\"anchor\": \"y\", \"domain\": [0.0, 1.0], \"title\": {\"text\": \"Fonctions\"}}, \"yaxis\": {\"anchor\": \"x\", \"domain\": [0.0, 1.0], \"title\": {\"text\": \"Nombres\"}}},\n",
       "                        {\"responsive\": true}\n",
       "                    ).then(function(){\n",
       "                            \n",
       "var gd = document.getElementById('498eedc9-bb09-4b4d-b812-c6d6c9a4c6c6');\n",
       "var x = new MutationObserver(function (mutations, observer) {{\n",
       "        var display = window.getComputedStyle(gd).display;\n",
       "        if (!display || display === 'none') {{\n",
       "            console.log([gd, 'removed!']);\n",
       "            Plotly.purge(gd);\n",
       "            observer.disconnect();\n",
       "        }}\n",
       "}});\n",
       "\n",
       "// Listen for the removal of the full notebook cells\n",
       "var notebookContainer = gd.closest('#notebook-container');\n",
       "if (notebookContainer) {{\n",
       "    x.observe(notebookContainer, {childList: true});\n",
       "}}\n",
       "\n",
       "// Listen for the clearing of the current output cell\n",
       "var outputEl = gd.closest('.output');\n",
       "if (outputEl) {{\n",
       "    x.observe(outputEl, {childList: true});\n",
       "}}\n",
       "\n",
       "                        })\n",
       "                };\n",
       "                });\n",
       "            </script>\n",
       "        </div>"
      ]
     },
     "metadata": {},
     "output_type": "display_data"
    }
   ],
   "source": [
    "\n",
    "\"\"\"-----------------------------------------------------------------------------------------------------\n",
    "    6_ Calcule des fréquences des modalités de la variable prof et détermination de la catégorie modale\n",
    "-----------------------------------------------------------------------------------------------------\"\"\"\n",
    "valeurProf = prof.values\n",
    "eff = prof.value_counts()#On inclut pas les valeurs 'NaN'\n",
    "total = eff.sum()\n",
    "freq = (eff/total)*100 # calcul de la fréquence (en %)\n",
    "print(\"\\n-------Fréquences des modalités de la variables prof-------\")\n",
    "print(freq)\n",
    "print(\"Le tableau ci-dessous montre que la catégorie modale de cette variable est 'ouvrier' avec 28.62% des prisonniers \")\n",
    "print(\"Cela peut être réconforter par le diagramme ci-dessous\")\n",
    "mod = {\"Fonctions\" : [\"Ouvrier\", \"Sans emploi\", \"Employé\", \"Artisan\", \"Prof.intermediaire\", \"Autre\", \"Cadre\", \"Agriculteur\"],\n",
    "       \"Nombres\" : [227, 222, 135, 90, 58, 31, 24, 6]\n",
    "       }\n",
    "modal = pd.DataFrame(mod)\n",
    "\n",
    "px.bar(modal, x = 'Fonctions', y = 'Nombres', color_discrete_sequence = [\"#7BFF00\"])\n",
    "\n"
   ]
  },
  {
   "cell_type": "code",
   "execution_count": 48,
   "metadata": {},
   "outputs": [
    {
     "data": {
      "application/vnd.plotly.v1+json": {
       "config": {
        "plotlyServerURL": "https://plot.ly"
       },
       "data": [
        {
         "domain": {
          "x": [
           0,
           1
          ],
          "y": [
           0,
           1
          ]
         },
         "hoverlabel": {
          "namelength": 0
         },
         "hovertemplate": "Fonctions=%{label}<br>Nombres=%{value}",
         "labels": [
          "Ouvrier",
          "Sans emploi",
          "Employé",
          "Artisan",
          "Prof.intermediaire",
          "Autre",
          "Cadre",
          "Agriculteur"
         ],
         "legendgroup": "",
         "name": "",
         "showlegend": true,
         "type": "pie",
         "values": [
          227,
          222,
          135,
          90,
          58,
          31,
          24,
          6
         ]
        }
       ],
       "layout": {
        "legend": {
         "tracegroupgap": 0
        },
        "template": {
         "data": {
          "bar": [
           {
            "error_x": {
             "color": "#2a3f5f"
            },
            "error_y": {
             "color": "#2a3f5f"
            },
            "marker": {
             "line": {
              "color": "#E5ECF6",
              "width": 0.5
             }
            },
            "type": "bar"
           }
          ],
          "barpolar": [
           {
            "marker": {
             "line": {
              "color": "#E5ECF6",
              "width": 0.5
             }
            },
            "type": "barpolar"
           }
          ],
          "carpet": [
           {
            "aaxis": {
             "endlinecolor": "#2a3f5f",
             "gridcolor": "white",
             "linecolor": "white",
             "minorgridcolor": "white",
             "startlinecolor": "#2a3f5f"
            },
            "baxis": {
             "endlinecolor": "#2a3f5f",
             "gridcolor": "white",
             "linecolor": "white",
             "minorgridcolor": "white",
             "startlinecolor": "#2a3f5f"
            },
            "type": "carpet"
           }
          ],
          "choropleth": [
           {
            "colorbar": {
             "outlinewidth": 0,
             "ticks": ""
            },
            "type": "choropleth"
           }
          ],
          "contour": [
           {
            "colorbar": {
             "outlinewidth": 0,
             "ticks": ""
            },
            "colorscale": [
             [
              0,
              "#0d0887"
             ],
             [
              0.1111111111111111,
              "#46039f"
             ],
             [
              0.2222222222222222,
              "#7201a8"
             ],
             [
              0.3333333333333333,
              "#9c179e"
             ],
             [
              0.4444444444444444,
              "#bd3786"
             ],
             [
              0.5555555555555556,
              "#d8576b"
             ],
             [
              0.6666666666666666,
              "#ed7953"
             ],
             [
              0.7777777777777778,
              "#fb9f3a"
             ],
             [
              0.8888888888888888,
              "#fdca26"
             ],
             [
              1,
              "#f0f921"
             ]
            ],
            "type": "contour"
           }
          ],
          "contourcarpet": [
           {
            "colorbar": {
             "outlinewidth": 0,
             "ticks": ""
            },
            "type": "contourcarpet"
           }
          ],
          "heatmap": [
           {
            "colorbar": {
             "outlinewidth": 0,
             "ticks": ""
            },
            "colorscale": [
             [
              0,
              "#0d0887"
             ],
             [
              0.1111111111111111,
              "#46039f"
             ],
             [
              0.2222222222222222,
              "#7201a8"
             ],
             [
              0.3333333333333333,
              "#9c179e"
             ],
             [
              0.4444444444444444,
              "#bd3786"
             ],
             [
              0.5555555555555556,
              "#d8576b"
             ],
             [
              0.6666666666666666,
              "#ed7953"
             ],
             [
              0.7777777777777778,
              "#fb9f3a"
             ],
             [
              0.8888888888888888,
              "#fdca26"
             ],
             [
              1,
              "#f0f921"
             ]
            ],
            "type": "heatmap"
           }
          ],
          "heatmapgl": [
           {
            "colorbar": {
             "outlinewidth": 0,
             "ticks": ""
            },
            "colorscale": [
             [
              0,
              "#0d0887"
             ],
             [
              0.1111111111111111,
              "#46039f"
             ],
             [
              0.2222222222222222,
              "#7201a8"
             ],
             [
              0.3333333333333333,
              "#9c179e"
             ],
             [
              0.4444444444444444,
              "#bd3786"
             ],
             [
              0.5555555555555556,
              "#d8576b"
             ],
             [
              0.6666666666666666,
              "#ed7953"
             ],
             [
              0.7777777777777778,
              "#fb9f3a"
             ],
             [
              0.8888888888888888,
              "#fdca26"
             ],
             [
              1,
              "#f0f921"
             ]
            ],
            "type": "heatmapgl"
           }
          ],
          "histogram": [
           {
            "marker": {
             "colorbar": {
              "outlinewidth": 0,
              "ticks": ""
             }
            },
            "type": "histogram"
           }
          ],
          "histogram2d": [
           {
            "colorbar": {
             "outlinewidth": 0,
             "ticks": ""
            },
            "colorscale": [
             [
              0,
              "#0d0887"
             ],
             [
              0.1111111111111111,
              "#46039f"
             ],
             [
              0.2222222222222222,
              "#7201a8"
             ],
             [
              0.3333333333333333,
              "#9c179e"
             ],
             [
              0.4444444444444444,
              "#bd3786"
             ],
             [
              0.5555555555555556,
              "#d8576b"
             ],
             [
              0.6666666666666666,
              "#ed7953"
             ],
             [
              0.7777777777777778,
              "#fb9f3a"
             ],
             [
              0.8888888888888888,
              "#fdca26"
             ],
             [
              1,
              "#f0f921"
             ]
            ],
            "type": "histogram2d"
           }
          ],
          "histogram2dcontour": [
           {
            "colorbar": {
             "outlinewidth": 0,
             "ticks": ""
            },
            "colorscale": [
             [
              0,
              "#0d0887"
             ],
             [
              0.1111111111111111,
              "#46039f"
             ],
             [
              0.2222222222222222,
              "#7201a8"
             ],
             [
              0.3333333333333333,
              "#9c179e"
             ],
             [
              0.4444444444444444,
              "#bd3786"
             ],
             [
              0.5555555555555556,
              "#d8576b"
             ],
             [
              0.6666666666666666,
              "#ed7953"
             ],
             [
              0.7777777777777778,
              "#fb9f3a"
             ],
             [
              0.8888888888888888,
              "#fdca26"
             ],
             [
              1,
              "#f0f921"
             ]
            ],
            "type": "histogram2dcontour"
           }
          ],
          "mesh3d": [
           {
            "colorbar": {
             "outlinewidth": 0,
             "ticks": ""
            },
            "type": "mesh3d"
           }
          ],
          "parcoords": [
           {
            "line": {
             "colorbar": {
              "outlinewidth": 0,
              "ticks": ""
             }
            },
            "type": "parcoords"
           }
          ],
          "pie": [
           {
            "automargin": true,
            "type": "pie"
           }
          ],
          "scatter": [
           {
            "marker": {
             "colorbar": {
              "outlinewidth": 0,
              "ticks": ""
             }
            },
            "type": "scatter"
           }
          ],
          "scatter3d": [
           {
            "line": {
             "colorbar": {
              "outlinewidth": 0,
              "ticks": ""
             }
            },
            "marker": {
             "colorbar": {
              "outlinewidth": 0,
              "ticks": ""
             }
            },
            "type": "scatter3d"
           }
          ],
          "scattercarpet": [
           {
            "marker": {
             "colorbar": {
              "outlinewidth": 0,
              "ticks": ""
             }
            },
            "type": "scattercarpet"
           }
          ],
          "scattergeo": [
           {
            "marker": {
             "colorbar": {
              "outlinewidth": 0,
              "ticks": ""
             }
            },
            "type": "scattergeo"
           }
          ],
          "scattergl": [
           {
            "marker": {
             "colorbar": {
              "outlinewidth": 0,
              "ticks": ""
             }
            },
            "type": "scattergl"
           }
          ],
          "scattermapbox": [
           {
            "marker": {
             "colorbar": {
              "outlinewidth": 0,
              "ticks": ""
             }
            },
            "type": "scattermapbox"
           }
          ],
          "scatterpolar": [
           {
            "marker": {
             "colorbar": {
              "outlinewidth": 0,
              "ticks": ""
             }
            },
            "type": "scatterpolar"
           }
          ],
          "scatterpolargl": [
           {
            "marker": {
             "colorbar": {
              "outlinewidth": 0,
              "ticks": ""
             }
            },
            "type": "scatterpolargl"
           }
          ],
          "scatterternary": [
           {
            "marker": {
             "colorbar": {
              "outlinewidth": 0,
              "ticks": ""
             }
            },
            "type": "scatterternary"
           }
          ],
          "surface": [
           {
            "colorbar": {
             "outlinewidth": 0,
             "ticks": ""
            },
            "colorscale": [
             [
              0,
              "#0d0887"
             ],
             [
              0.1111111111111111,
              "#46039f"
             ],
             [
              0.2222222222222222,
              "#7201a8"
             ],
             [
              0.3333333333333333,
              "#9c179e"
             ],
             [
              0.4444444444444444,
              "#bd3786"
             ],
             [
              0.5555555555555556,
              "#d8576b"
             ],
             [
              0.6666666666666666,
              "#ed7953"
             ],
             [
              0.7777777777777778,
              "#fb9f3a"
             ],
             [
              0.8888888888888888,
              "#fdca26"
             ],
             [
              1,
              "#f0f921"
             ]
            ],
            "type": "surface"
           }
          ],
          "table": [
           {
            "cells": {
             "fill": {
              "color": "#EBF0F8"
             },
             "line": {
              "color": "white"
             }
            },
            "header": {
             "fill": {
              "color": "#C8D4E3"
             },
             "line": {
              "color": "white"
             }
            },
            "type": "table"
           }
          ]
         },
         "layout": {
          "annotationdefaults": {
           "arrowcolor": "#2a3f5f",
           "arrowhead": 0,
           "arrowwidth": 1
          },
          "coloraxis": {
           "colorbar": {
            "outlinewidth": 0,
            "ticks": ""
           }
          },
          "colorscale": {
           "diverging": [
            [
             0,
             "#8e0152"
            ],
            [
             0.1,
             "#c51b7d"
            ],
            [
             0.2,
             "#de77ae"
            ],
            [
             0.3,
             "#f1b6da"
            ],
            [
             0.4,
             "#fde0ef"
            ],
            [
             0.5,
             "#f7f7f7"
            ],
            [
             0.6,
             "#e6f5d0"
            ],
            [
             0.7,
             "#b8e186"
            ],
            [
             0.8,
             "#7fbc41"
            ],
            [
             0.9,
             "#4d9221"
            ],
            [
             1,
             "#276419"
            ]
           ],
           "sequential": [
            [
             0,
             "#0d0887"
            ],
            [
             0.1111111111111111,
             "#46039f"
            ],
            [
             0.2222222222222222,
             "#7201a8"
            ],
            [
             0.3333333333333333,
             "#9c179e"
            ],
            [
             0.4444444444444444,
             "#bd3786"
            ],
            [
             0.5555555555555556,
             "#d8576b"
            ],
            [
             0.6666666666666666,
             "#ed7953"
            ],
            [
             0.7777777777777778,
             "#fb9f3a"
            ],
            [
             0.8888888888888888,
             "#fdca26"
            ],
            [
             1,
             "#f0f921"
            ]
           ],
           "sequentialminus": [
            [
             0,
             "#0d0887"
            ],
            [
             0.1111111111111111,
             "#46039f"
            ],
            [
             0.2222222222222222,
             "#7201a8"
            ],
            [
             0.3333333333333333,
             "#9c179e"
            ],
            [
             0.4444444444444444,
             "#bd3786"
            ],
            [
             0.5555555555555556,
             "#d8576b"
            ],
            [
             0.6666666666666666,
             "#ed7953"
            ],
            [
             0.7777777777777778,
             "#fb9f3a"
            ],
            [
             0.8888888888888888,
             "#fdca26"
            ],
            [
             1,
             "#f0f921"
            ]
           ]
          },
          "colorway": [
           "#636efa",
           "#EF553B",
           "#00cc96",
           "#ab63fa",
           "#FFA15A",
           "#19d3f3",
           "#FF6692",
           "#B6E880",
           "#FF97FF",
           "#FECB52"
          ],
          "font": {
           "color": "#2a3f5f"
          },
          "geo": {
           "bgcolor": "white",
           "lakecolor": "white",
           "landcolor": "#E5ECF6",
           "showlakes": true,
           "showland": true,
           "subunitcolor": "white"
          },
          "hoverlabel": {
           "align": "left"
          },
          "hovermode": "closest",
          "mapbox": {
           "style": "light"
          },
          "paper_bgcolor": "white",
          "plot_bgcolor": "#E5ECF6",
          "polar": {
           "angularaxis": {
            "gridcolor": "white",
            "linecolor": "white",
            "ticks": ""
           },
           "bgcolor": "#E5ECF6",
           "radialaxis": {
            "gridcolor": "white",
            "linecolor": "white",
            "ticks": ""
           }
          },
          "scene": {
           "xaxis": {
            "backgroundcolor": "#E5ECF6",
            "gridcolor": "white",
            "gridwidth": 2,
            "linecolor": "white",
            "showbackground": true,
            "ticks": "",
            "zerolinecolor": "white"
           },
           "yaxis": {
            "backgroundcolor": "#E5ECF6",
            "gridcolor": "white",
            "gridwidth": 2,
            "linecolor": "white",
            "showbackground": true,
            "ticks": "",
            "zerolinecolor": "white"
           },
           "zaxis": {
            "backgroundcolor": "#E5ECF6",
            "gridcolor": "white",
            "gridwidth": 2,
            "linecolor": "white",
            "showbackground": true,
            "ticks": "",
            "zerolinecolor": "white"
           }
          },
          "shapedefaults": {
           "line": {
            "color": "#2a3f5f"
           }
          },
          "ternary": {
           "aaxis": {
            "gridcolor": "white",
            "linecolor": "white",
            "ticks": ""
           },
           "baxis": {
            "gridcolor": "white",
            "linecolor": "white",
            "ticks": ""
           },
           "bgcolor": "#E5ECF6",
           "caxis": {
            "gridcolor": "white",
            "linecolor": "white",
            "ticks": ""
           }
          },
          "title": {
           "x": 0.05
          },
          "xaxis": {
           "automargin": true,
           "gridcolor": "white",
           "linecolor": "white",
           "ticks": "",
           "title": {
            "standoff": 15
           },
           "zerolinecolor": "white",
           "zerolinewidth": 2
          },
          "yaxis": {
           "automargin": true,
           "gridcolor": "white",
           "linecolor": "white",
           "ticks": "",
           "title": {
            "standoff": 15
           },
           "zerolinecolor": "white",
           "zerolinewidth": 2
          }
         }
        },
        "title": {
         "text": "Répartition des professions des prisonniers de cette étude"
        }
       }
      },
      "text/html": [
       "<div>\n",
       "        \n",
       "        \n",
       "            <div id=\"2c51c72e-7e93-4ea7-b6b4-01108602edc2\" class=\"plotly-graph-div\" style=\"height:525px; width:100%;\"></div>\n",
       "            <script type=\"text/javascript\">\n",
       "                require([\"plotly\"], function(Plotly) {\n",
       "                    window.PLOTLYENV=window.PLOTLYENV || {};\n",
       "                    \n",
       "                if (document.getElementById(\"2c51c72e-7e93-4ea7-b6b4-01108602edc2\")) {\n",
       "                    Plotly.newPlot(\n",
       "                        '2c51c72e-7e93-4ea7-b6b4-01108602edc2',\n",
       "                        [{\"domain\": {\"x\": [0.0, 1.0], \"y\": [0.0, 1.0]}, \"hoverlabel\": {\"namelength\": 0}, \"hovertemplate\": \"Fonctions=%{label}<br>Nombres=%{value}\", \"labels\": [\"Ouvrier\", \"Sans emploi\", \"Employ\\u00e9\", \"Artisan\", \"Prof.intermediaire\", \"Autre\", \"Cadre\", \"Agriculteur\"], \"legendgroup\": \"\", \"name\": \"\", \"showlegend\": true, \"type\": \"pie\", \"values\": [227, 222, 135, 90, 58, 31, 24, 6]}],\n",
       "                        {\"legend\": {\"tracegroupgap\": 0}, \"template\": {\"data\": {\"bar\": [{\"error_x\": {\"color\": \"#2a3f5f\"}, \"error_y\": {\"color\": \"#2a3f5f\"}, \"marker\": {\"line\": {\"color\": \"#E5ECF6\", \"width\": 0.5}}, \"type\": \"bar\"}], \"barpolar\": [{\"marker\": {\"line\": {\"color\": \"#E5ECF6\", \"width\": 0.5}}, \"type\": \"barpolar\"}], \"carpet\": [{\"aaxis\": {\"endlinecolor\": \"#2a3f5f\", \"gridcolor\": \"white\", \"linecolor\": \"white\", \"minorgridcolor\": \"white\", \"startlinecolor\": \"#2a3f5f\"}, \"baxis\": {\"endlinecolor\": \"#2a3f5f\", \"gridcolor\": \"white\", \"linecolor\": \"white\", \"minorgridcolor\": \"white\", \"startlinecolor\": \"#2a3f5f\"}, \"type\": \"carpet\"}], \"choropleth\": [{\"colorbar\": {\"outlinewidth\": 0, \"ticks\": \"\"}, \"type\": \"choropleth\"}], \"contour\": [{\"colorbar\": {\"outlinewidth\": 0, \"ticks\": \"\"}, \"colorscale\": [[0.0, \"#0d0887\"], [0.1111111111111111, \"#46039f\"], [0.2222222222222222, \"#7201a8\"], [0.3333333333333333, \"#9c179e\"], [0.4444444444444444, \"#bd3786\"], [0.5555555555555556, \"#d8576b\"], [0.6666666666666666, \"#ed7953\"], [0.7777777777777778, \"#fb9f3a\"], [0.8888888888888888, \"#fdca26\"], [1.0, \"#f0f921\"]], \"type\": \"contour\"}], \"contourcarpet\": [{\"colorbar\": {\"outlinewidth\": 0, \"ticks\": \"\"}, \"type\": \"contourcarpet\"}], \"heatmap\": [{\"colorbar\": {\"outlinewidth\": 0, \"ticks\": \"\"}, \"colorscale\": [[0.0, \"#0d0887\"], [0.1111111111111111, \"#46039f\"], [0.2222222222222222, \"#7201a8\"], [0.3333333333333333, \"#9c179e\"], [0.4444444444444444, \"#bd3786\"], [0.5555555555555556, \"#d8576b\"], [0.6666666666666666, \"#ed7953\"], [0.7777777777777778, \"#fb9f3a\"], [0.8888888888888888, \"#fdca26\"], [1.0, \"#f0f921\"]], \"type\": \"heatmap\"}], \"heatmapgl\": [{\"colorbar\": {\"outlinewidth\": 0, \"ticks\": \"\"}, \"colorscale\": [[0.0, \"#0d0887\"], [0.1111111111111111, \"#46039f\"], [0.2222222222222222, \"#7201a8\"], [0.3333333333333333, \"#9c179e\"], [0.4444444444444444, \"#bd3786\"], [0.5555555555555556, \"#d8576b\"], [0.6666666666666666, \"#ed7953\"], [0.7777777777777778, \"#fb9f3a\"], [0.8888888888888888, \"#fdca26\"], [1.0, \"#f0f921\"]], \"type\": \"heatmapgl\"}], \"histogram\": [{\"marker\": {\"colorbar\": {\"outlinewidth\": 0, \"ticks\": \"\"}}, \"type\": \"histogram\"}], \"histogram2d\": [{\"colorbar\": {\"outlinewidth\": 0, \"ticks\": \"\"}, \"colorscale\": [[0.0, \"#0d0887\"], [0.1111111111111111, \"#46039f\"], [0.2222222222222222, \"#7201a8\"], [0.3333333333333333, \"#9c179e\"], [0.4444444444444444, \"#bd3786\"], [0.5555555555555556, \"#d8576b\"], [0.6666666666666666, \"#ed7953\"], [0.7777777777777778, \"#fb9f3a\"], [0.8888888888888888, \"#fdca26\"], [1.0, \"#f0f921\"]], \"type\": \"histogram2d\"}], \"histogram2dcontour\": [{\"colorbar\": {\"outlinewidth\": 0, \"ticks\": \"\"}, \"colorscale\": [[0.0, \"#0d0887\"], [0.1111111111111111, \"#46039f\"], [0.2222222222222222, \"#7201a8\"], [0.3333333333333333, \"#9c179e\"], [0.4444444444444444, \"#bd3786\"], [0.5555555555555556, \"#d8576b\"], [0.6666666666666666, \"#ed7953\"], [0.7777777777777778, \"#fb9f3a\"], [0.8888888888888888, \"#fdca26\"], [1.0, \"#f0f921\"]], \"type\": \"histogram2dcontour\"}], \"mesh3d\": [{\"colorbar\": {\"outlinewidth\": 0, \"ticks\": \"\"}, \"type\": \"mesh3d\"}], \"parcoords\": [{\"line\": {\"colorbar\": {\"outlinewidth\": 0, \"ticks\": \"\"}}, \"type\": \"parcoords\"}], \"pie\": [{\"automargin\": true, \"type\": \"pie\"}], \"scatter\": [{\"marker\": {\"colorbar\": {\"outlinewidth\": 0, \"ticks\": \"\"}}, \"type\": \"scatter\"}], \"scatter3d\": [{\"line\": {\"colorbar\": {\"outlinewidth\": 0, \"ticks\": \"\"}}, \"marker\": {\"colorbar\": {\"outlinewidth\": 0, \"ticks\": \"\"}}, \"type\": \"scatter3d\"}], \"scattercarpet\": [{\"marker\": {\"colorbar\": {\"outlinewidth\": 0, \"ticks\": \"\"}}, \"type\": \"scattercarpet\"}], \"scattergeo\": [{\"marker\": {\"colorbar\": {\"outlinewidth\": 0, \"ticks\": \"\"}}, \"type\": \"scattergeo\"}], \"scattergl\": [{\"marker\": {\"colorbar\": {\"outlinewidth\": 0, \"ticks\": \"\"}}, \"type\": \"scattergl\"}], \"scattermapbox\": [{\"marker\": {\"colorbar\": {\"outlinewidth\": 0, \"ticks\": \"\"}}, \"type\": \"scattermapbox\"}], \"scatterpolar\": [{\"marker\": {\"colorbar\": {\"outlinewidth\": 0, \"ticks\": \"\"}}, \"type\": \"scatterpolar\"}], \"scatterpolargl\": [{\"marker\": {\"colorbar\": {\"outlinewidth\": 0, \"ticks\": \"\"}}, \"type\": \"scatterpolargl\"}], \"scatterternary\": [{\"marker\": {\"colorbar\": {\"outlinewidth\": 0, \"ticks\": \"\"}}, \"type\": \"scatterternary\"}], \"surface\": [{\"colorbar\": {\"outlinewidth\": 0, \"ticks\": \"\"}, \"colorscale\": [[0.0, \"#0d0887\"], [0.1111111111111111, \"#46039f\"], [0.2222222222222222, \"#7201a8\"], [0.3333333333333333, \"#9c179e\"], [0.4444444444444444, \"#bd3786\"], [0.5555555555555556, \"#d8576b\"], [0.6666666666666666, \"#ed7953\"], [0.7777777777777778, \"#fb9f3a\"], [0.8888888888888888, \"#fdca26\"], [1.0, \"#f0f921\"]], \"type\": \"surface\"}], \"table\": [{\"cells\": {\"fill\": {\"color\": \"#EBF0F8\"}, \"line\": {\"color\": \"white\"}}, \"header\": {\"fill\": {\"color\": \"#C8D4E3\"}, \"line\": {\"color\": \"white\"}}, \"type\": \"table\"}]}, \"layout\": {\"annotationdefaults\": {\"arrowcolor\": \"#2a3f5f\", \"arrowhead\": 0, \"arrowwidth\": 1}, \"coloraxis\": {\"colorbar\": {\"outlinewidth\": 0, \"ticks\": \"\"}}, \"colorscale\": {\"diverging\": [[0, \"#8e0152\"], [0.1, \"#c51b7d\"], [0.2, \"#de77ae\"], [0.3, \"#f1b6da\"], [0.4, \"#fde0ef\"], [0.5, \"#f7f7f7\"], [0.6, \"#e6f5d0\"], [0.7, \"#b8e186\"], [0.8, \"#7fbc41\"], [0.9, \"#4d9221\"], [1, \"#276419\"]], \"sequential\": [[0.0, \"#0d0887\"], [0.1111111111111111, \"#46039f\"], [0.2222222222222222, \"#7201a8\"], [0.3333333333333333, \"#9c179e\"], [0.4444444444444444, \"#bd3786\"], [0.5555555555555556, \"#d8576b\"], [0.6666666666666666, \"#ed7953\"], [0.7777777777777778, \"#fb9f3a\"], [0.8888888888888888, \"#fdca26\"], [1.0, \"#f0f921\"]], \"sequentialminus\": [[0.0, \"#0d0887\"], [0.1111111111111111, \"#46039f\"], [0.2222222222222222, \"#7201a8\"], [0.3333333333333333, \"#9c179e\"], [0.4444444444444444, \"#bd3786\"], [0.5555555555555556, \"#d8576b\"], [0.6666666666666666, \"#ed7953\"], [0.7777777777777778, \"#fb9f3a\"], [0.8888888888888888, \"#fdca26\"], [1.0, \"#f0f921\"]]}, \"colorway\": [\"#636efa\", \"#EF553B\", \"#00cc96\", \"#ab63fa\", \"#FFA15A\", \"#19d3f3\", \"#FF6692\", \"#B6E880\", \"#FF97FF\", \"#FECB52\"], \"font\": {\"color\": \"#2a3f5f\"}, \"geo\": {\"bgcolor\": \"white\", \"lakecolor\": \"white\", \"landcolor\": \"#E5ECF6\", \"showlakes\": true, \"showland\": true, \"subunitcolor\": \"white\"}, \"hoverlabel\": {\"align\": \"left\"}, \"hovermode\": \"closest\", \"mapbox\": {\"style\": \"light\"}, \"paper_bgcolor\": \"white\", \"plot_bgcolor\": \"#E5ECF6\", \"polar\": {\"angularaxis\": {\"gridcolor\": \"white\", \"linecolor\": \"white\", \"ticks\": \"\"}, \"bgcolor\": \"#E5ECF6\", \"radialaxis\": {\"gridcolor\": \"white\", \"linecolor\": \"white\", \"ticks\": \"\"}}, \"scene\": {\"xaxis\": {\"backgroundcolor\": \"#E5ECF6\", \"gridcolor\": \"white\", \"gridwidth\": 2, \"linecolor\": \"white\", \"showbackground\": true, \"ticks\": \"\", \"zerolinecolor\": \"white\"}, \"yaxis\": {\"backgroundcolor\": \"#E5ECF6\", \"gridcolor\": \"white\", \"gridwidth\": 2, \"linecolor\": \"white\", \"showbackground\": true, \"ticks\": \"\", \"zerolinecolor\": \"white\"}, \"zaxis\": {\"backgroundcolor\": \"#E5ECF6\", \"gridcolor\": \"white\", \"gridwidth\": 2, \"linecolor\": \"white\", \"showbackground\": true, \"ticks\": \"\", \"zerolinecolor\": \"white\"}}, \"shapedefaults\": {\"line\": {\"color\": \"#2a3f5f\"}}, \"ternary\": {\"aaxis\": {\"gridcolor\": \"white\", \"linecolor\": \"white\", \"ticks\": \"\"}, \"baxis\": {\"gridcolor\": \"white\", \"linecolor\": \"white\", \"ticks\": \"\"}, \"bgcolor\": \"#E5ECF6\", \"caxis\": {\"gridcolor\": \"white\", \"linecolor\": \"white\", \"ticks\": \"\"}}, \"title\": {\"x\": 0.05}, \"xaxis\": {\"automargin\": true, \"gridcolor\": \"white\", \"linecolor\": \"white\", \"ticks\": \"\", \"title\": {\"standoff\": 15}, \"zerolinecolor\": \"white\", \"zerolinewidth\": 2}, \"yaxis\": {\"automargin\": true, \"gridcolor\": \"white\", \"linecolor\": \"white\", \"ticks\": \"\", \"title\": {\"standoff\": 15}, \"zerolinecolor\": \"white\", \"zerolinewidth\": 2}}}, \"title\": {\"text\": \"R\\u00e9partition des professions des prisonniers de cette \\u00e9tude\"}},\n",
       "                        {\"responsive\": true}\n",
       "                    ).then(function(){\n",
       "                            \n",
       "var gd = document.getElementById('2c51c72e-7e93-4ea7-b6b4-01108602edc2');\n",
       "var x = new MutationObserver(function (mutations, observer) {{\n",
       "        var display = window.getComputedStyle(gd).display;\n",
       "        if (!display || display === 'none') {{\n",
       "            console.log([gd, 'removed!']);\n",
       "            Plotly.purge(gd);\n",
       "            observer.disconnect();\n",
       "        }}\n",
       "}});\n",
       "\n",
       "// Listen for the removal of the full notebook cells\n",
       "var notebookContainer = gd.closest('#notebook-container');\n",
       "if (notebookContainer) {{\n",
       "    x.observe(notebookContainer, {childList: true});\n",
       "}}\n",
       "\n",
       "// Listen for the clearing of the current output cell\n",
       "var outputEl = gd.closest('.output');\n",
       "if (outputEl) {{\n",
       "    x.observe(outputEl, {childList: true});\n",
       "}}\n",
       "\n",
       "                        })\n",
       "                };\n",
       "                });\n",
       "            </script>\n",
       "        </div>"
      ]
     },
     "metadata": {},
     "output_type": "display_data"
    }
   ],
   "source": [
    "\"\"\"---------------------------------------------\n",
    "    7_ Diagramme circulaire de la variable prof\n",
    "---------------------------------------------\"\"\"\n",
    "\n",
    "fig = px.pie(modal, values = 'Nombres', names = 'Fonctions', title = \"Répartition des professions des prisonniers de cette étude\")\n",
    "fig.show()\n"
   ]
  },
  {
   "cell_type": "code",
   "execution_count": 32,
   "metadata": {},
   "outputs": [
    {
     "name": "stdout",
     "output_type": "stream",
     "text": [
      "\n",
      "-------Les moyennes d'âges des prisonniers selon leur fonction-------\n",
      "                          age\n",
      "prof                         \n",
      "agriculteur         48.833333\n",
      "artisan             45.111111\n",
      "autre               34.935484\n",
      "cadre               50.083333\n",
      "employe             38.711111\n",
      "ouvrier             37.396476\n",
      "prof.intermediaire  43.258621\n",
      "sans emploi         35.896396\n"
     ]
    }
   ],
   "source": [
    "\"\"\"-----------------------------------------\n",
    "    8_ Les moyennes des âges par profession\n",
    "-----------------------------------------\"\"\"\n",
    "# Supprimer les colonnes dont on a pas besoin\n",
    "newq3 = q3.drop([\"duree\", \"discip\", \"ecole\", \"separation\", \n",
    "              \"juge.enfant\", \"place\", \"abus\", \"grav.cons\", \n",
    "              \"dep.cons\", \"ago.cons\", \"ptsd.cons\", \"alc.cons\", \n",
    "              \"subst.cons\", \"scz.cons\", \"char\", \"rs\", \"ed\", \"dr\", \n",
    "              \"suicide.hr\", \"suicide.past\", \"n.enfant\", \"n.fratrie\", \n",
    "              \"dur.interv\", \"suicide.s\"], axis = 1)\n",
    "\n",
    "print(\"\\n-------Les moyennes d'âges des prisonniers selon leur fonction-------\")\n",
    "\n",
    "#Utilisation de la fonction \"groupby\" pour regrouper les différents éléments de la variable prof\n",
    "print(newq3.groupby([\"prof\"]).mean())\n"
   ]
  },
  {
   "cell_type": "code",
   "execution_count": 33,
   "metadata": {},
   "outputs": [
    {
     "name": "stdout",
     "output_type": "stream",
     "text": [
      "\n",
      "-----Table des eﬀectifs pour la variable prof incluant les 'NaN'-----\n",
      "\n",
      " ouvrier               227\n",
      "sans emploi           222\n",
      "employe               135\n",
      "artisan                90\n",
      "prof.intermediaire     58\n",
      "autre                  31\n",
      "cadre                  24\n",
      "agriculteur             6\n",
      "NaN                     6\n",
      "Name: prof, dtype: int64\n"
     ]
    }
   ],
   "source": [
    "\"\"\"---------------------------------------------------------------------\n",
    "    9_ La table des eﬀectifs pour la variable prof incluant les \"NaN\"\n",
    "---------------------------------------------------------------------\"\"\"\n",
    "print(\"\\n-----Table des eﬀectifs pour la variable prof incluant les 'NaN'-----\")\n",
    "print(\"\\n\", prof.value_counts(dropna = False))\n"
   ]
  },
  {
   "cell_type": "code",
   "execution_count": 34,
   "metadata": {},
   "outputs": [
    {
     "name": "stdout",
     "output_type": "stream",
     "text": [
      "\n",
      "-------Le nombre de 'Nan' pour chaque variable-------\n",
      "age               2\n",
      "prof              6\n",
      "duree           223\n",
      "discip            6\n",
      "n.enfant         26\n",
      "n.fratrie         0\n",
      "ecole             5\n",
      "separation       11\n",
      "juge.enfant       5\n",
      "place             7\n",
      "abus              7\n",
      "grav.cons         4\n",
      "dep.cons          0\n",
      "ago.cons          0\n",
      "ptsd.cons         0\n",
      "alc.cons          0\n",
      "subst.cons        0\n",
      "scz.cons          0\n",
      "char             96\n",
      "rs              103\n",
      "ed              107\n",
      "dr              111\n",
      "suicide.s        41\n",
      "suicide.hr       39\n",
      "suicide.past     14\n",
      "dur.interv       50\n",
      "dtype: int64\n"
     ]
    }
   ],
   "source": [
    "\"\"\"---------------------------------------------\n",
    "    10_ Le nombre de \"Nan\" pour chaque variable\n",
    "---------------------------------------------\"\"\"\n",
    "print(\"\\n-------Le nombre de 'Nan' pour chaque variable-------\")\n",
    "print(q3.isnull().sum())\n"
   ]
  },
  {
   "cell_type": "code",
   "execution_count": 35,
   "metadata": {},
   "outputs": [
    {
     "name": "stdout",
     "output_type": "stream",
     "text": [
      "\n",
      "-----Table de données ne contenant pas les données manquantes 'Nan' -----\n",
      "      age                prof duree discip  n.enfant  n.fratrie ecole  \\\n",
      "7    52.0             artisan   5.0    0.0       2.0          9   2.0   \n",
      "8    42.0             ouvrier   4.0    1.0       1.0         12   1.0   \n",
      "12   21.0             employe   4.0    0.0       0.0          3   2.0   \n",
      "13   40.0             artisan   4.0    0.0       3.0          5   1.0   \n",
      "16   60.0  prof.intermediaire   5.0    0.0       2.0          4   2.0   \n",
      "..    ...                 ...   ...    ...       ...        ...   ...   \n",
      "793  27.0  prof.intermediaire   4.0    0.0       2.0          0   2.0   \n",
      "795  44.0             ouvrier   4.0    1.0       1.0         12   2.0   \n",
      "796  31.0               cadre   4.0    0.0       3.0          6   4.0   \n",
      "797  38.0             employe   5.0    0.0       0.0          1   3.0   \n",
      "798  71.0               autre   4.0    0.0       2.0          4   1.0   \n",
      "\n",
      "    separation juge.enfant place  ... subst.cons scz.cons char   rs   ed   dr  \\\n",
      "7          0.0         0.0   0.0  ...          0        0  1.0  2.0  2.0  2.0   \n",
      "8          1.0         1.0   0.0  ...          1        0  4.0  3.0  3.0  1.0   \n",
      "12         1.0         1.0   1.0  ...          1        0  1.0  2.0  2.0  2.0   \n",
      "13         0.0         1.0   0.0  ...          0        0  1.0  2.0  2.0  2.0   \n",
      "16         1.0         0.0   1.0  ...          0        0  1.0  1.0  2.0  3.0   \n",
      "..         ...         ...   ...  ...        ...      ...  ...  ...  ...  ...   \n",
      "793        1.0         0.0   1.0  ...          0        0  1.0  3.0  1.0  1.0   \n",
      "795        0.0         0.0   0.0  ...          0        0  1.0  1.0  1.0  1.0   \n",
      "796        1.0         1.0   1.0  ...          1        0  2.0  1.0  1.0  1.0   \n",
      "797        0.0         0.0   0.0  ...          0        0  1.0  1.0  1.0  1.0   \n",
      "798        1.0         0.0   0.0  ...          0        0  1.0  1.0  1.0  1.0   \n",
      "\n",
      "    suicide.s suicide.hr suicide.past dur.interv  \n",
      "7         0.0        0.0          0.0       84.0  \n",
      "8         4.0        1.0          1.0       78.0  \n",
      "12        0.0        0.0          0.0       95.0  \n",
      "13        0.0        0.0          1.0       90.0  \n",
      "16        0.0        0.0          0.0       90.0  \n",
      "..        ...        ...          ...        ...  \n",
      "793       0.0        0.0          0.0       60.0  \n",
      "795       0.0        0.0          1.0      105.0  \n",
      "796       1.0        0.0          0.0      105.0  \n",
      "797       0.0        0.0          0.0       75.0  \n",
      "798       0.0        0.0          0.0       45.0  \n",
      "\n",
      "[403 rows x 26 columns]\n"
     ]
    }
   ],
   "source": [
    "\"\"\"-------------------------------------------------------\n",
    "    11_ Suppression toutes les lignes contenant des \"Nan\"\n",
    "-------------------------------------------------------\"\"\"\n",
    "print(\"\\n-----Table de données ne contenant pas les données manquantes 'Nan' -----\")\n",
    "cleaned = q3.dropna( axis = 0)\n",
    "print(cleaned)\n"
   ]
  },
  {
   "cell_type": "code",
   "execution_count": 37,
   "metadata": {},
   "outputs": [
    {
     "data": {
      "image/png": "[encoded data removed]",
      "text/plain": [
       "<Figure size 1008x288 with 1 Axes>"
      ]
     },
     "metadata": {
      "needs_background": "light"
     },
     "output_type": "display_data"
    }
   ],
   "source": [
    "\"\"\"----------------------------------------------------------------------\n",
    "    12_ L'histogramme et la densité de la variable age sur la même ﬁgure\n",
    "----------------------------------------------------------------------\"\"\"\n",
    "p = sns.distplot(cleaned[\"age\"], bins = 20, color = \"blue\", kde_kws = {\"color\": \"orange\", \"lw\": 2})# Utilisation de seaborn\n",
    "plt.xlabel(\"Âges des prisonniers\", color = \"red\")\n",
    "plt.title(\"Représentation et densité de la variable age\", color = \"red\")\n",
    "fig = plt.gcf()#Taille de la figure\n",
    "fig.set_size_inches(14, 4)\n",
    "plt.show()"
   ]
  },
  {
   "cell_type": "code",
   "execution_count": 42,
   "metadata": {},
   "outputs": [
    {
     "name": "stdout",
     "output_type": "stream",
     "text": [
      "\n",
      "Nouvelle table de données contenant la variable 'age_classe'\n",
      "\n",
      "       age                prof duree discip  n.enfant  n.fratrie ecole  \\\n",
      "0    31.0               autre   4.0    0.0       2.0          4   1.0   \n",
      "1    49.0                 NaN   NaN    0.0       7.0          3   2.0   \n",
      "2    50.0  prof.intermediaire   5.0    0.0       2.0          2   2.0   \n",
      "3    47.0             ouvrier   NaN    0.0       0.0          6   1.0   \n",
      "4    23.0         sans emploi   4.0    1.0       1.0          6   1.0   \n",
      "..    ...                 ...   ...    ...       ...        ...   ...   \n",
      "794  28.0         sans emploi   5.0    0.0       1.0          4   1.0   \n",
      "795  44.0             ouvrier   4.0    1.0       1.0         12   2.0   \n",
      "796  31.0               cadre   4.0    0.0       3.0          6   4.0   \n",
      "797  38.0             employe   5.0    0.0       0.0          1   3.0   \n",
      "798  71.0               autre   4.0    0.0       2.0          4   1.0   \n",
      "\n",
      "    separation juge.enfant place  ... scz.cons char   rs   ed   dr suicide.s  \\\n",
      "0          0.0         0.0   0.0  ...        0  1.0  2.0  1.0  1.0       0.0   \n",
      "1          1.0         0.0   0.0  ...        0  1.0  2.0  2.0  1.0       0.0   \n",
      "2          0.0         0.0   0.0  ...        0  1.0  2.0  3.0  2.0       0.0   \n",
      "3          1.0         0.0   1.0  ...        0  1.0  2.0  2.0  2.0       1.0   \n",
      "4          1.0         NaN   1.0  ...        0  1.0  2.0  2.0  2.0       0.0   \n",
      "..         ...         ...   ...  ...      ...  ...  ...  ...  ...       ...   \n",
      "794        NaN         1.0   0.0  ...        0  NaN  3.0  1.0  3.0       1.0   \n",
      "795        0.0         0.0   0.0  ...        0  1.0  1.0  1.0  1.0       0.0   \n",
      "796        1.0         1.0   1.0  ...        0  2.0  1.0  1.0  1.0       1.0   \n",
      "797        0.0         0.0   0.0  ...        0  1.0  1.0  1.0  1.0       0.0   \n",
      "798        1.0         0.0   0.0  ...        0  1.0  1.0  1.0  1.0       0.0   \n",
      "\n",
      "    suicide.hr suicide.past dur.interv age_classe  \n",
      "0          0.0          0.0        NaN      28-37  \n",
      "1          0.0          0.0       70.0      48-83  \n",
      "2          0.0          0.0        NaN      48-83  \n",
      "3          0.0          0.0      105.0      37-48  \n",
      "4          0.0          1.0        NaN      19-28  \n",
      "..         ...          ...        ...        ...  \n",
      "794        0.0          0.0       60.0      19-28  \n",
      "795        0.0          1.0      105.0      37-48  \n",
      "796        0.0          0.0      105.0      28-37  \n",
      "797        0.0          0.0       75.0      37-48  \n",
      "798        0.0          0.0       45.0      48-83  \n",
      "\n",
      "[799 rows x 27 columns]\n"
     ]
    }
   ],
   "source": [
    "\"\"\"------------------------------------\n",
    "    13_ Discrétisation la variable age\n",
    "------------------------------------\"\"\"\n",
    "minAge = 19\n",
    "maxAge = 83\n",
    "Q1 = 28  \n",
    "Q2 = 37\n",
    "Q3 = 48\n",
    "q3[\"age_classe\"] = pd.cut(q3.age, bins = [19, 28, 37, 48, 83], labels = [\"19-28\", \"28-37\",\"37-48\" ,\"48-83\"])\n",
    "print(\"\\nNouvelle table de données contenant la variable 'age_classe'\")\n",
    "print(\"\\n\", q3)"
   ]
  },
  {
   "cell_type": "code",
   "execution_count": 41,
   "metadata": {},
   "outputs": [
    {
     "name": "stdout",
     "output_type": "stream",
     "text": [
      "\n",
      "Les fréquences des modalités de la nouvelle variable age_classe\n",
      "\n",
      " 37-48    209\n",
      "19-28    197\n",
      "28-37    190\n",
      "48-83    186\n",
      "Name: age_classe, dtype: int64\n"
     ]
    }
   ],
   "source": [
    "\"\"\"---------------------------------------------------------------------\n",
    "    14_ Les fréquences des modalités de la nouvelle variable age_classe\n",
    "---------------------------------------------------------------------\"\"\"\n",
    "print(\"\\nLes fréquences des modalités de la nouvelle variable age_classe\")\n",
    "ageCl = q3[\"age_classe\"] \n",
    "print(\"\\n\", ageCl.value_counts())"
   ]
  },
  {
   "cell_type": "code",
   "execution_count": null,
   "metadata": {},
   "outputs": [],
   "source": []
  }
 ],
 "metadata": {
  "kernelspec": {
   "display_name": "Python 3",
   "language": "python",
   "name": "python3"
  },
  "language_info": {
   "codemirror_mode": {
    "name": "ipython",
    "version": 3
   },
   "file_extension": ".py",
   "mimetype": "text/x-python",
   "name": "python",
   "nbconvert_exporter": "python",
   "pygments_lexer": "ipython3",
   "version": "3.6.10"
  }
 },
 "nbformat": 4,
 "nbformat_minor": 2
}
